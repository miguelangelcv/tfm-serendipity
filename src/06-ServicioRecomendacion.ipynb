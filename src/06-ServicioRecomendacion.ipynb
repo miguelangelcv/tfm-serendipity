{
 "cells": [
  {
   "cell_type": "markdown",
   "id": "c54dabd2-0f7e-46cc-9726-1a0db6fa553f",
   "metadata": {},
   "source": [
    "<img src=\"images/header-transparent.png\" alt=\"Logo UCLM-ESII\" align=\"right\">\n",
    "\n",
    "<br><br><br><br>\n",
    "<h2><font color=\"#92002A\" size=4>Trabajo Fin de Máster</font></h2>\n",
    "\n",
    "<h1><font color=\"#6B001F\" size=5>SERENDIPITY: Servicio web para la recomendacIón de playlists a partir de una playlist</font></h1>\n",
    "<h2><font color=\"#92002A\" size=3>Parte 6 - Servicio de recomendación de playlists</font></h2>\n",
    "\n",
    "<br>\n",
    "<div style=\"text-align: right\">\n",
    "    <font color=\"#B20033\" size=3><strong>Autor</strong>: <em>Miguel Ángel Cantero Víllora</em></font><br>\n",
    "    <br>\n",
    "    <font color=\"#B20033\" size=3><strong>Directores</strong>: <em>José Antonio Gámez Martín</em></font><br>\n",
    "    <font color=\"#B20033\" size=3><em>Juan Ángel Aledo Sánchez</em></font><br>\n",
    "    <br>\n",
    "<font color=\"#B20033\" size=3>Máster Universitario en Ingeniería Informática</font><br>\n",
    "<font color=\"#B20033\" size=2>Escuela Superior de Ingeniería Informática | Universidad de Castilla-La Mancha</font>\n",
    "\n",
    "</div>"
   ]
  },
  {
   "cell_type": "markdown",
   "id": "7c77b87a-d747-4563-a2a0-53f27c748cc7",
   "metadata": {},
   "source": [
    "---\n",
    "\n",
    "<br>\n",
    "\n",
    "\n",
    "<a id=\"indice\"></a>\n",
    "<h2><font color=\"#92002A\" size=5>Índice</font></h2>\n",
    "\n",
    "<br>\n",
    "\n",
    "* [1. Introducción](#section1)\n",
    "    * [1.1 - Informática sin servidor](#section11)\n",
    "    * [1.2 - Recursos empleados](#section12)\n",
    "* [2. Base de datos](#section2)\n",
    "    * [2.1 - Azure Cosmos DB](#section21)\n",
    "    * [2.2 - Estructura](#section22)\n",
    "    * [2.3 - Inserción de datos](#section23)\n",
    "* [3. Aplicación de funciones](#section3)\n",
    "* [4. API REST](#section4)\n",
    "* [5. Aplicación Web](#section5)\n",
    "\n",
    "<br>\n",
    "\n",
    "---"
   ]
  },
  {
   "cell_type": "code",
   "execution_count": null,
   "id": "2784461e-b9d3-419b-8e30-1801b1f53c48",
   "metadata": {},
   "outputs": [],
   "source": [
    "import csv\n",
    "import datetime\n",
    "import joblib\n",
    "import os\n",
    "\n",
    "from bson.timestamp import Timestamp\n",
    "from bson.objectid import ObjectId\n",
    "from collections import defaultdict\n",
    "from pymongo import MongoClient\n",
    "\n",
    "\n",
    "MPD_CSV_PATH = \"MPD_CSV\"\n",
    "MODEL_DATA_FILE =\"model/model_data.pkl\"\n",
    "GENRES_FILE = os.path.join(MPD_CSV_PATH, \"mpd.genres.csv\")\n",
    "ARTISTS_FILE = os.path.join(MPD_CSV_PATH, \"mpd.artists.csv\")\n",
    "ARTISTS_GENRES_FILE = os.path.join(MPD_CSV_PATH, \"mpd.artists-genres.csv\")\n",
    "ALBUMS_FILE = os.path.join(MPD_CSV_PATH, \"mpd.albums.csv\")\n",
    "TRACKS_FILE = os.path.join(MPD_CSV_PATH, \"mpd.tracks.csv\")\n",
    "PLSTRS_FILE = os.path.join(MPD_CSV_PATH, \"mpd.pls-tracks.csv\")\n",
    "PLS_INFO_FILE = os.path.join(MPD_CSV_PATH, \"mpd.playlists-info.csv\")\n",
    "\n",
    "LOCAL_CONNECTION_STRING = \"mongodb://localhost:27017/?readPreference=primary&directConnection=true&ssl=false\""
   ]
  },
  {
   "cell_type": "markdown",
   "id": "b007029a-97df-4d9a-8a6d-02902807c2a6",
   "metadata": {},
   "source": [
    "---\n",
    "\n",
    "<br>\n",
    "\n",
    "\n",
    "<a id=\"section1\"></a>\n",
    "## <font color=\"#92002A\">1 - Introducción</font>\n",
    "<br>\n",
    "\n",
    "Una vez que ya tenemos disponible el punto de acceso con el modelo encargado de realizar las predicciones, vamos a montar el servicio web para la recomendación de playlists y la aplicación web que va a hacer uso de él.\n",
    "\n",
    "<br>\n",
    "\n",
    "---\n",
    "\n",
    "<br>\n",
    "\n",
    "<a id=\"section11\"></a>\n",
    "\n",
    "### <font color=\"#92002A\">1.1 - Informática sin servidor</font>\n",
    "\n",
    "<br>\n",
    "\n",
    "Antes de empezar a desarrollar los servicios necesarios y mostrar qué tecnología que hemos empleado, vamos a hacer una breve introducción al concepto informática sin servidor para poder comprender los servicios usados para implementar el servicio de recomendación.\n",
    "\n",
    "La informática sin servidor, o <i>serverless computing</i>, permite a los desarrolladores crear aplicaciones de forma rápida, ya que no es necesario que administren la infraestructura. Con las aplicaciones sin servidor, el proveedor de servicios en la nube aprovisiona, escala y administra automáticamente la infraestructura necesaria para ejecutar el código \\cite{serverless}.\n",
    "\n",
    "Para entender la definición de la informática sin servidor, es importante tener en cuenta que los servidores siguen ejecutando el código. El término sin servidor significa que las tareas asociadas con el aprovisionamiento y la administración de la infraestructura son invisibles para el desarrollador. Este enfoque permite a los desarrolladores centrarse más en la lógica de negocios y en aportar más valor al núcleo principal del negocio. La informática sin servidor ayuda a los equipos a aumentar su productividad y a comercializar los productos más rápido, además de permitir a las organizaciones optimizar mejor los recursos y seguir centrándose en la innovación.\n",
    "\n",
    "Las principales ventajas que nos ofrece este modelo de servicios en la nube son las siguientes:\n",
    "\n",
    "* <strong>No es necesaria la administración de la infraestructura</strong>: El uso de servicios totalmente administrados, permite a los desarrolladores evitar las tareas administrativas y centrarse en la lógica de negocios principal.\n",
    "* <strong>Escalabilidad dinámica</strong>: Con la informática sin servidor, la infraestructura se escala y reduce verticalmente de forma dinámica en cuestión de segundos, a fin de satisfacer la demanda de cualquier carga de trabajo.\n",
    "* <strong>Comercialización más rápida</strong>: Las aplicaciones sin servidor reducen las dependencias de las operaciones de cada ciclo de desarrollo, con el aumento de la agilidad de los equipos de desarrollo para ofrecer más funcionalidad en menos tiempo.\n",
    "* <strong>Uso eficaz de los recursos</strong>: La migración a las tecnologías sin servidor ayuda a las organizaciones a reducir el coste total de propiedad y a reasignar los recursos para acelerar el ritmo de la innovación.\n",
    "\n",
    "<br>\n",
    "\n",
    "<a id=\"section12\"></a>\n",
    "\n",
    "### <font color=\"#92002A\">1.2 - Recursos empleados</font>\n",
    "\n",
    "<br>\n",
    "\n",
    "Los recursos <i>serverless</i> que necesitamos para desarrollar nuestro servicio de recomendación de playlists son los siguientes:\n",
    "* <i>Base de datos</i> (Azure Cosmos DB).\n",
    "* <i>Aplicación de funciones</i> (Azure Functions).\n",
    "* <i>Servicio API REST</i> (API Management).\n",
    "* <i>Aplicación web</i>, alojada en un \"blob\" (contenedor de archivos) dentro de nuestra cuenta de almacenamiento."
   ]
  },
  {
   "cell_type": "markdown",
   "id": "c50d8dd2-7e08-44fc-92a0-e75eabb568c9",
   "metadata": {},
   "source": [
    "<div style=\"text-align: right\">\n",
    "<a href=\"#indice\"><font size=5><i class=\"fa fa-arrow-circle-up\" aria-hidden=\"true\" style=\"color:#92002A\"></i></font></a>\n",
    "</div>\n",
    "\n",
    "---\n",
    "\n",
    "<br>"
   ]
  },
  {
   "cell_type": "markdown",
   "id": "99def8e7-4e27-4ae3-8a2a-7f1e1e40fc99",
   "metadata": {},
   "source": [
    "<a id=\"section2\"></a>\n",
    "## <font color=\"#92002A\">2 - Base de datos</font>\n",
    "<br>\n",
    "\n",
    "El primer recurso que vamos a crear es la base de datos donde almacenaremos toda la información de la que disponemos (playlists, artistas, pistas, ...) junto a otra información relevante sobre nuestro modelo, como las características de las pistas y las playlists.\n",
    "\n",
    "Primero crearemos la base de datos en un equipo propio e incorporaremos los datos. Una vez esté creada en el equipo local, realizaremos un volcado de datos para alojarlos en nuestra cuenta del servicio de base de datos creada en el proveedor <i>cloud</i>.\n",
    "\n",
    "<br>\n",
    "\n",
    "---\n",
    "\n",
    "<br>\n",
    "\n",
    "<a id=\"section21\"></a>\n",
    "### <font color=\"#92002A\">2.1 - Azure Cosmos DB</font>\n",
    "\n",
    "<br>\n",
    "\n",
    "*Azure Cosmos DB* es un servicio de base de datos multimodelo distribuido con escalado horizontal, que nos permite distribuir datos de forma global sobre cualquier número de regiones de *Microsoft Azure*, empleando un proceso transparente de escalado y replicación de los datos. También garantiza valores de latencia inferiores a 10 milisegundos en cualquier parte del mundo, además ofrece varios modelos de coherencia bien definidos para ajustar el rendimiento y garantizar alta disponibilidad con hospedaje múltiple."
   ]
  },
  {
   "cell_type": "markdown",
   "id": "f15bc18c-2864-4611-a7f0-0baabab4482c",
   "metadata": {},
   "source": [
    "<center><img src=\"images/AzureCosmosDB.png\" width=400 alt=\"Logo CosmosDB\"></center>"
   ]
  },
  {
   "cell_type": "markdown",
   "id": "1537ea75-8d45-4b04-9a5f-07bdd0ffd70f",
   "metadata": {},
   "source": [
    "A nivel de funcionalidad, *Azure Cosmos DB* indexa datos automáticamente sin que haya que ocuparse de la administración de esquemas ni de índices. También se caracteriza por ser multimodelo y admitir de forma nativa varios modelo de datos:\n",
    "\n",
    "* ***SQL API***: Documentos JSON y consultas basadas en SQL.\n",
    "* ***Azure Table Storage***: Datos en formato clave-valor.\n",
    "* ***MongoDB API***: Documentos JSON y uso de la API de *MongoDB*.\n",
    "* ***Gremlin API***: Soporta la API de Gremlin \n",
    "* ***Casandra DB***: Para para representaciones de datos en columnas.  "
   ]
  },
  {
   "cell_type": "markdown",
   "id": "54469e72-edf5-4f89-85bd-44f1f457c0b8",
   "metadata": {},
   "source": [
    "<center><img src=\"images/FormatosCosmosDB.png\" alt=\"Cosmos DB APIs\"></center>"
   ]
  },
  {
   "cell_type": "markdown",
   "id": "53c7a9c7-cca4-490a-aca0-90ccaba43499",
   "metadata": {},
   "source": [
    "Para nuestra base de datos, vamos a emplear *Azure Cosmos DB* con la API de *MongoDB*. Este tipo de bases de datos se pueden utilizar como almacenes de datos para aplicaciones diseñadas para emplear *MongoDB*, de esta forma la aplicación se puede comunicar con *Azure Cosmos DB* y usar sus bases de datos en lugar de bases de datos de *MongoDB*. Lo único que se debe cambiar es la cadena de conexión.[1](https://unpocodejava.com/2018/02/22/que-es-azure-cosmos-db/) [2](https://medium.com/globant/introduction-to-cosmos-db-8d106bb7207) [3](https://docs.microsoft.com/es-es/azure/cosmos-db/introduction)\n",
    "\n",
    "<br>\n",
    "\n",
    "---\n",
    "\n",
    "<br>"
   ]
  },
  {
   "cell_type": "markdown",
   "id": "cb94bf54-dcc1-4021-a579-f72c7814c0c9",
   "metadata": {},
   "source": [
    "<a id=\"section22\"></a>\n",
    "### <font color=\"#92002A\">2.2 - Estructura</font>\n",
    "\n",
    "<br>\n",
    "\n",
    "*Azure Cosmos DB* es un servicio de base de datos multimodelo distribuido con escalado horizontal, que nos permite distribuir datos de forma global sobre cualquier número de regiones de *Microsoft Azure*, empleando un proceso transparente de escalado y replicación de los datos. También garantiza valores de latencia inferiores a 10 milisegundos en cualquier parte del mundo, además ofrece varios modelos de coherencia bien definidos para ajustar el rendimiento y garantizar alta disponibilidad con hospedaje múltiple.\n",
    "\n",
    "Para nuestro sistema de recomendación, vamos a crear una base de datos llamada *music* que contendrá las siguientes colecciones:\n",
    "* <i>albums</i>: Contiene la información básica de los álbumes a los que pertenecen las pistas de las playlists.\n",
    "* <i>artists</i>: Contiene todos los intérpretes a los cuales pertenecen los álbumes, así como a los géneros a los que pertenecen.\n",
    "* <i>genres</i>: Contiene todos los géneros en los cuales se pueden clasificar los artistas.\n",
    "* <i>playlists</i>: Contiene toda la información relativa a las listas de canciones, tales como el número de seguidores, si es colaborativa, última modificación, etc.\n",
    "* <i>playlistsRecomm</i>: Esta colección la emplearemos para almacenar, de forma temporal, las playlists que recomiende nuestro sistema cuando solamente se le indique el título y/o características. Hemos creado esta colección para reducir el tiempo de espera y la carga al punto de conexión del modelo.\n",
    "* <i>playlistFeatures</i>: Contiene las características/etiquetas con las que se pueden asociar las playlists.\n",
    "* <i>tracks</i>: Colección con todas las pistas que existen en las playlists del sistema.\n",
    "* <i>emojiTranslations</i>: Contiene el conjunto de emoticonos que pueden ser traducidos a texto, empleado para normalizar los títulos de las playlists y crear sus correspondientes etiquetas (playlist features).\n",
    "\n",
    "<br>\n",
    "\n",
    "A continuación, se muestra una ilustración con la arquitectura de la base de datos que hemos diseñado:"
   ]
  },
  {
   "cell_type": "markdown",
   "id": "f3ec4712-523d-4eec-8041-c9cdd41f67a5",
   "metadata": {},
   "source": [
    "<img src=\"images/db_diagram.png\" alt=\"Esquema de la BD\" align=\"right\">"
   ]
  },
  {
   "cell_type": "markdown",
   "id": "90ca00aa-8cdf-41fb-bb74-3008c7ad716c",
   "metadata": {},
   "source": [
    "<br>\n",
    "\n",
    "---\n",
    "\n",
    "<br>\n",
    "\n",
    "<a id=\"section23\"></a>\n",
    "### <font color=\"#92002A\">2.3 - Inserción de datos</font>\n",
    "\n",
    "<br>\n",
    "\n",
    "Antes de comenzar con la inserción de datos, creamos el cliente de *MongoDB* con la cadena de conexión a nuestra cuenta de *Azure Cosmos DB* y establecemos la base de datos a emplear (*music*):"
   ]
  },
  {
   "cell_type": "code",
   "execution_count": null,
   "id": "b110ee5a-f7ae-4f24-9ccd-87ef5e06e5d1",
   "metadata": {},
   "outputs": [],
   "source": [
    "client = MongoClient(LOCAL_CONNECTION_STRING)\n",
    "music_db = client['music']"
   ]
  },
  {
   "cell_type": "markdown",
   "id": "2d90a4ab-13ba-4462-8386-f23467c94d96",
   "metadata": {},
   "source": [
    "<br>\n",
    "\n",
    "Llegados a este punto, procedemos a cargar la información que tenemos repartida por los distintos ficheros *CSV*, transformarla en caso de ser necesario, e insertarla en las colecciones correspondientes de nuestra base de datos."
   ]
  },
  {
   "cell_type": "markdown",
   "id": "da51e1c8-a963-44f0-aa0f-27c01189cc96",
   "metadata": {},
   "source": [
    "<br>\n",
    "\n",
    "#### <font color=\"#92002A\">Colección 'genres'</font>\n",
    "\n",
    "<br>"
   ]
  },
  {
   "cell_type": "code",
   "execution_count": null,
   "id": "d0a53c1c-b1fe-4b74-a34b-db224323d2de",
   "metadata": {},
   "outputs": [],
   "source": [
    "with open(GENRES_FILE, encoding=\"utf8\") as file:\n",
    "    genre_list = [{k: v for k, v in row.items()}\n",
    "                   for row in csv.DictReader(file)]\n",
    "    genre_list = [{'pid' : int(genre['genre_pid']), 'name' : genre['genre_name']} for genre in genre_list]\n",
    "    \n",
    "# Creamos un diccionario para establecer los identificadores de los géneros en los artistas\n",
    "genres_map_dict = {genre['name'] : genre['pid'] for genre in genre_list}"
   ]
  },
  {
   "cell_type": "code",
   "execution_count": null,
   "id": "30573df7-d94b-456d-a49c-727c89a16800",
   "metadata": {},
   "outputs": [],
   "source": [
    "genres_col = music_db['genres']\n",
    "genres_col.create_index('pid')"
   ]
  },
  {
   "cell_type": "code",
   "execution_count": null,
   "id": "88a7ff3e-f396-4f39-8600-22b635ebda5d",
   "metadata": {},
   "outputs": [],
   "source": [
    "genres_col.insert_many(genre_list, ordered=False)"
   ]
  },
  {
   "cell_type": "code",
   "execution_count": null,
   "id": "c438c9ae-1eac-4471-b443-b994bf5632a8",
   "metadata": {},
   "outputs": [],
   "source": [
    "# Puesto que estamos cargando los datos a la base de datos de nuestro equipo,\n",
    "# eliminaremos aquellos objetos que ya no necesitamos para evitar quedarnos sin espacio.\n",
    "del genre_list"
   ]
  },
  {
   "cell_type": "markdown",
   "id": "cd8910c9-4ca1-4e34-84a5-c45ccb8ffd9d",
   "metadata": {},
   "source": [
    "<br>\n",
    "\n",
    "#### <font color=\"#92002A\">Colección 'artists'</font>\n",
    "\n",
    "<br>"
   ]
  },
  {
   "cell_type": "code",
   "execution_count": null,
   "id": "3d0b47d0-e7ae-437e-81dd-68f7e795c5ff",
   "metadata": {},
   "outputs": [],
   "source": [
    "with open(ARTISTS_FILE, encoding=\"utf8\") as file:\n",
    "    artist_list = [{k: v for k, v in row.items()}\n",
    "                    for row in csv.DictReader(file)]\n",
    "    artist_list = [{'pid' : int(artist['artist_pid']), \n",
    "                    'name' : artist['artist_name'], \n",
    "                    '_id' : artist['artist_id']} for artist in artist_list]"
   ]
  },
  {
   "cell_type": "code",
   "execution_count": null,
   "id": "e75f70cb-1e5f-4f21-994a-e95a21ccac5a",
   "metadata": {
    "tags": []
   },
   "outputs": [],
   "source": [
    "with open(ARTISTS_GENRES_FILE, encoding=\"utf8\") as file:\n",
    "    artist_genres = [{k: v for k, v in row.items()}\n",
    "                    for row in csv.DictReader(file)]\n",
    "    artist_genres = {artist['artist_id'] : [genres_map_dict[genre] \n",
    "                                         for genre in  artist['genres'].split('|') \n",
    "                                         if genre in genres_map_dict] \n",
    "                     for artist in artist_genres}  "
   ]
  },
  {
   "cell_type": "code",
   "execution_count": null,
   "id": "7dbc38ce-caf4-45ad-90e1-7cadc049558c",
   "metadata": {},
   "outputs": [],
   "source": [
    "for artist in artist_list:\n",
    "    if artist['_id'] in artist_genres:\n",
    "        artist['genres'] = [genre for genre in artist_genres[artist['_id']]]"
   ]
  },
  {
   "cell_type": "code",
   "execution_count": null,
   "id": "2c01cf39-37d5-4a9f-8b97-ec28deafa22d",
   "metadata": {},
   "outputs": [],
   "source": [
    "artists_col = music_db['artists']\n",
    "artists_col.create_index('pid')"
   ]
  },
  {
   "cell_type": "code",
   "execution_count": null,
   "id": "6a4aab1f-3278-4961-bea4-42dd0c34cc17",
   "metadata": {
    "tags": []
   },
   "outputs": [],
   "source": [
    "artists_col.insert_many(artist_list, ordered=False)"
   ]
  },
  {
   "cell_type": "code",
   "execution_count": null,
   "id": "d3819201-c615-4b12-8450-8fa63bca425a",
   "metadata": {},
   "outputs": [],
   "source": [
    "del artist_list"
   ]
  },
  {
   "cell_type": "markdown",
   "id": "06d4975f-ee23-4829-95eb-4f6d62edc233",
   "metadata": {},
   "source": [
    "<br>\n",
    "\n",
    "#### <font color=\"#92002A\">Colección 'albums'</font>\n",
    "\n",
    "<br>"
   ]
  },
  {
   "cell_type": "code",
   "execution_count": null,
   "id": "260cce8a-79bc-4b32-a6d9-03ee491d2b97",
   "metadata": {},
   "outputs": [],
   "source": [
    "with open(ALBUMS_FILE, encoding=\"utf8\") as file:\n",
    "    album_list = [{k: v for k, v in row.items()}\n",
    "                    for row in csv.DictReader(file)]    \n",
    "    album_list = [{'pid' : int(album['album_pid']),\n",
    "                    'name' : album['album_name'],\n",
    "                    '_id' : album['album_id'],\n",
    "                    'artist' : album['artist_id']} for album in album_list]"
   ]
  },
  {
   "cell_type": "code",
   "execution_count": null,
   "id": "d9ec10fb-7e22-496c-bcc4-f033ef132090",
   "metadata": {},
   "outputs": [],
   "source": [
    "def date_converter(date_str):\n",
    "    split = date_str.split('-')\n",
    "    try:\n",
    "        if len(split) == 3:\n",
    "            return datetime.datetime(int(split[0]),int(split[1]), int(split[2]))\n",
    "        elif len(split) == 2:\n",
    "            return datetime.datetime(int(split[0]), int(split[1]), 1)\n",
    "        else:\n",
    "            return datetime.datetime(int(date_str),1,1)\n",
    "    except:\n",
    "        return None"
   ]
  },
  {
   "cell_type": "code",
   "execution_count": null,
   "id": "ecd9dc76-d178-471a-bce0-e2156337826d",
   "metadata": {},
   "outputs": [],
   "source": [
    "with open(\"MPD_CSV/mpd.albums-releasedate.csv\", encoding=\"utf8\") as file:\n",
    "    dates_dict = {d['album_id'] : date_converter(d['release_date'])\n",
    "                  for d in [{k: v for k, v in row.items()} for row in csv.DictReader(file)]\n",
    "                  if d['release_date'] != None}"
   ]
  },
  {
   "cell_type": "code",
   "execution_count": null,
   "id": "7f27de03-8416-4c9d-b50d-a00c18eedc2e",
   "metadata": {},
   "outputs": [],
   "source": [
    "for album in album_list:\n",
    "    if album['_id'] in dates_dict:\n",
    "        album['release_date'] = dates_dict[album['_id']]\n",
    "\n",
    "del dates_dict"
   ]
  },
  {
   "cell_type": "code",
   "execution_count": null,
   "id": "64a74746-0b10-48cb-912d-72182c9ebaa4",
   "metadata": {},
   "outputs": [],
   "source": [
    "albums_col = music_db['albums']\n",
    "albums_col.create_index('pid')\n",
    "\n",
    "albums_col.insert_many(album_list, ordered=False)"
   ]
  },
  {
   "cell_type": "code",
   "execution_count": null,
   "id": "4c89bfb6-dfbd-4b12-b1be-5b0075e77edd",
   "metadata": {},
   "outputs": [],
   "source": [
    "del album_list"
   ]
  },
  {
   "cell_type": "markdown",
   "id": "84b340aa-83a0-416e-ba31-2c7c629c2985",
   "metadata": {},
   "source": [
    "<br>\n",
    "\n",
    "#### <font color=\"#92002A\">Colección 'tracks'</font>\n",
    "\n",
    "<br>"
   ]
  },
  {
   "cell_type": "code",
   "execution_count": null,
   "id": "28bbd5e2-fca4-478e-ae47-c9fd3502bc1c",
   "metadata": {},
   "outputs": [],
   "source": [
    "with open(TRACKS_FILE, encoding=\"utf8\") as file:\n",
    "    track_list = [{k: v for k, v in row.items()}\n",
    "                    for row in csv.DictReader(file)]    \n",
    "    track_list = [{'pid' : int(track['track_pid']),\n",
    "                    'name' : track['track_name'],\n",
    "                    'duration_ms' : track['duration_ms'],\n",
    "                    '_id' : track['track_id'],\n",
    "                    'album' : track['album_id'],\n",
    "                    'artist' : track['artist_id']} for track in track_list]\n",
    "    \n",
    "track_map_dict = {tr['pid'] : tr['_id'] for tr in track_list}"
   ]
  },
  {
   "cell_type": "code",
   "execution_count": null,
   "id": "55dbcb9d-6fe5-4188-9137-1b76a7ac28ac",
   "metadata": {},
   "outputs": [],
   "source": [
    "tracks_col = music_db['tracks']\n",
    "tracks_col.create_index('pid')\n",
    "\n",
    "tracks_col.insert_many(track_list, ordered=False)"
   ]
  },
  {
   "cell_type": "code",
   "execution_count": null,
   "id": "4878f2c0-7626-4343-87bd-fe2ac207b125",
   "metadata": {},
   "outputs": [],
   "source": [
    "del track_list"
   ]
  },
  {
   "cell_type": "markdown",
   "id": "9606efc0-0a98-458b-9cfe-e2c173114643",
   "metadata": {},
   "source": [
    "<br>\n",
    "\n",
    "#### <font color=\"#92002A\">Colección 'playlists'</font>\n",
    "\n",
    "<br>"
   ]
  },
  {
   "cell_type": "code",
   "execution_count": null,
   "id": "39dc835d-8c07-4ea4-ba20-d812bb6efe9d",
   "metadata": {},
   "outputs": [],
   "source": [
    "plstrs_list_dict = defaultdict(list)\n",
    "\n",
    "with open(PLSTRS_FILE) as file:\n",
    "    file.readline() # Ignoramos el encabezado del CSV\n",
    "    while (line := file.readline().rstrip()):\n",
    "        pl_pid, _ , track_pid = line.split(',')\n",
    "        plstrs_list_dict[int(pl_pid)].append(track_map_dict[int(track_pid)])"
   ]
  },
  {
   "cell_type": "code",
   "execution_count": null,
   "id": "b9547d5b-5e78-41ec-9735-04be4d313dd3",
   "metadata": {},
   "outputs": [],
   "source": [
    "pls_feats = joblib.load(\"model/model_data.pkl\")['playlist_features']\n",
    "pls_feats_names = joblib.load(\"model/model_data.pkl\")['playlist_features_names']\n",
    "\n",
    "pls_feats_dict = defaultdict(list)\n",
    "\n",
    "for row,column,value in zip(pls_feats.row, pls_feats.col, pls_feats.data):\n",
    "    if value != 0:\n",
    "        feat = pls_feats_names[column]\n",
    "        if 'name:' not in feat:\n",
    "            pls_feats_dict[row].append(pls_feats_names[column].split(':')[-1])"
   ]
  },
  {
   "cell_type": "code",
   "execution_count": null,
   "id": "72f531ad-6678-42a8-8c45-bd583a948f62",
   "metadata": {},
   "outputs": [],
   "source": [
    "with open(PLS_INFO_FILE, encoding=\"utf8\") as file:\n",
    "    playlist_list = [{k: v for k, v in row.items()}\n",
    "                    for row in csv.DictReader(file)]\n",
    "    playlist_list = [{'pid' : int(playlist['pl_pid']),\n",
    "                       'name' : playlist['name'],\n",
    "                       'collaborative' : bool(playlist['collaborative']),\n",
    "                       'tracksCount' : int(playlist['num_tracks']),\n",
    "                       'albumsCount' : int(playlist['num_albums']),\n",
    "                       'artistsCount' : int(playlist['num_artists']),\n",
    "                       'followers' :  int(playlist['num_followers']),\n",
    "                       'durationMs' : int(playlist['duration_ms']),\n",
    "                       'editsCount' : int(playlist['num_edits']),\n",
    "                       'modifiedAt' : Timestamp(int(playlist['modified_at']), 1),\n",
    "                       'description' : playlist['description'],\n",
    "                       'tracks' : plstrs_list_dict.pop(int(playlist['pl_pid']))} for playlist in playlist_list]"
   ]
  },
  {
   "cell_type": "code",
   "execution_count": null,
   "id": "e8af375b-a010-4674-81b4-93050fba3528",
   "metadata": {},
   "outputs": [],
   "source": [
    "for pl in playlist_list:\n",
    "    if pl['pid'] in pls_feats_dict.keys():\n",
    "        pl['tags'] = pls_feats_dict[pl['pid']]"
   ]
  },
  {
   "cell_type": "code",
   "execution_count": null,
   "id": "5fe0a768-1eba-4198-be8d-b2346c61a8fc",
   "metadata": {},
   "outputs": [],
   "source": [
    "del track_map_dict\n",
    "del pls_feats\n",
    "del plstrs_list_dict\n",
    "del pls_feats_dict"
   ]
  },
  {
   "cell_type": "code",
   "execution_count": null,
   "id": "42d426ed-f3f3-4a0c-8ffc-9f7eb3e930c6",
   "metadata": {},
   "outputs": [],
   "source": [
    "known_pls_col = music_db['playlists']\n",
    "known_pls_col.create_index('pid')"
   ]
  },
  {
   "cell_type": "code",
   "execution_count": null,
   "id": "d3a4bbeb-3eff-4fd5-b18a-bda249c48e3c",
   "metadata": {},
   "outputs": [],
   "source": [
    "known_pls_col.insert_many(playlist_list, ordered=False)"
   ]
  },
  {
   "cell_type": "code",
   "execution_count": null,
   "id": "abcaeddf-11de-44c3-b31d-871391f3a8b3",
   "metadata": {},
   "outputs": [],
   "source": [
    "del playlist_list"
   ]
  },
  {
   "cell_type": "markdown",
   "id": "17b90004-980d-4259-84aa-f047c21cf825",
   "metadata": {},
   "source": [
    "<br>\n",
    "\n",
    "#### <font color=\"#92002A\">Colección 'playlistFeatures'</font>\n",
    "\n",
    "<br>"
   ]
  },
  {
   "cell_type": "code",
   "execution_count": null,
   "id": "fa4991a2-a615-4c56-b028-80668c73e496",
   "metadata": {},
   "outputs": [],
   "source": [
    "pls_features = [{'pid' : i, \n",
    "                 'name' : x.split(':')[-1], \n",
    "                 'value' : x} for i,x in enumerate(pls_feats_names) \n",
    "                if \"name:\" not in x]"
   ]
  },
  {
   "cell_type": "code",
   "execution_count": null,
   "id": "33899a86-f4e6-4846-adcd-a02272102f4d",
   "metadata": {},
   "outputs": [],
   "source": [
    "plsfeat_col = music_db['playlistFeatures']\n",
    "plsfeat_col.create_index('pid')\n",
    "\n",
    "plsfeat_col.insert_many(pls_features, ordered=False)"
   ]
  },
  {
   "cell_type": "code",
   "execution_count": null,
   "id": "e3caf44f-71ba-41e9-b699-4a7531d979ac",
   "metadata": {},
   "outputs": [],
   "source": [
    "del pls_features"
   ]
  },
  {
   "cell_type": "markdown",
   "id": "9aaa175b-1d85-4386-b481-a4659e00b412",
   "metadata": {},
   "source": [
    "<br>\n",
    "\n",
    "#### <font color=\"#92002A\">Colección 'emojiTranslations'</font>\n",
    "\n",
    "<br>"
   ]
  },
  {
   "cell_type": "code",
   "execution_count": null,
   "id": "764256f0-100a-4fbd-b28f-077b547a3c61",
   "metadata": {},
   "outputs": [],
   "source": [
    "with open(\"MPD_CSV/mpd.emoji-tags.csv\", encoding=\"utf8\") as file:\n",
    "    emojis_list = [{k: v for k, v in row.items()}\n",
    "                    for row in csv.DictReader(file)]\n",
    "    emojis_list = [{'emoji' : e['emoji'], 'tags' : e['tags'].split('|')} for e in emojis_list]"
   ]
  },
  {
   "cell_type": "code",
   "execution_count": null,
   "id": "e9676473-cfcc-42ab-829a-12dc99c35ba6",
   "metadata": {},
   "outputs": [],
   "source": [
    "emojis_col = music_db['emojiTranslations']\n",
    "emojis_col.insert_many(emojis_list, ordered=False)"
   ]
  },
  {
   "cell_type": "code",
   "execution_count": null,
   "id": "b4bc33b9-1178-4d3b-ba1c-fcb04df3c669",
   "metadata": {},
   "outputs": [],
   "source": [
    "del emojis_list"
   ]
  },
  {
   "cell_type": "markdown",
   "id": "fe17a193-6fca-4709-b8c0-71a2485f4935",
   "metadata": {},
   "source": [
    "---\n",
    "\n",
    "<br>\n",
    "\n",
    "Una vez creada la base de datos y sus colecciones, realizamos una serie de consultas y exportamos la base de datos a nuestra cuenta de <i>Azure Cosmos DB</i>. Este proceso lo vamos a realizar de la siguiente manera:\n",
    "* Realizamos un volcado con la herramienta `mongodump`\n",
    "* Mediante `mongorestore`, añadimos la base de datos y sus colecciones a <i>Azure Cosmos DB</i>."
   ]
  },
  {
   "cell_type": "markdown",
   "id": "f0c32ff0-9fb4-4267-bac4-6397d97b5b40",
   "metadata": {},
   "source": [
    "<div style=\"text-align: right\">\n",
    "<a href=\"#indice\"><font size=5><i class=\"fa fa-arrow-circle-up\" aria-hidden=\"true\" style=\"color:#92002A\"></i></font></a>\n",
    "</div>\n",
    "\n",
    "---\n",
    "\n",
    "<br>"
   ]
  },
  {
   "cell_type": "markdown",
   "id": "51e37dd1-2b10-441f-ab11-d937537e3798",
   "metadata": {},
   "source": [
    "<a id=\"section3\"></a>\n",
    "## <font color=\"#92002A\">3 - Aplicación de funciones</font>\n",
    "\n",
    "<br>\n",
    "\n",
    "Una aplicación de funciones de <i>Azure Functions</i>, es una solución del tipo función como servicio o <i>FaaS</i> (<i>Function as a Service</i>), que nos permite ejecutar fácilmente pequeñas piezas de código, conocidas como <i>funciones</i>, en la nube. Podemos escribir únicamente el código necesario para realizar la funcionalidad que deseemos, sin tener que preocuparnos de una aplicación completa o de la infraestructura para ejecutarla. Estas funciones utilizan distintos lenguajes de desarrollo, como C#, Python, Java o Javascript, entre otros.\n",
    "\n",
    "El coste que se nos factura es el tiempo de ejecución del código de nuestra función. Además, si tenemos muchas peticiones a nuestra función, <i>Microsoft Azure</i> escalará de forma elástica a más instancias o menos en función de la cantidad de peticiones que nuestra función tenga que atender.\n",
    "\n",
    "En la figura que se muestra a continuación:"
   ]
  },
  {
   "cell_type": "markdown",
   "id": "295925b9-cf31-40d9-8913-a4e43235a514",
   "metadata": {},
   "source": [
    "<img src=\"images/AzureFunctionsDiagram.png\" alt=\"Azure Functions\" align=\"right\">"
   ]
  },
  {
   "cell_type": "markdown",
   "id": "abfaae01-df0a-42ad-935d-bc52fbe1d568",
   "metadata": {},
   "source": [
    "podemos ver el esquema de funcionamiento de las funciones. Un desencadenador, o <i>trigger</i>, hace que la función se ejecute con la entrada que se le proporciona, ya esté indicada en el <i>trigger</i> o enlazada en el código de dicha función. A continuación, se ejecutará con los datos proporcionados y producirá una salida, siendo del tipo admitido por el sistema (respuesta <i>HTTP</i>, fichero a almacenar en un <i>blob</i>, documento a insertar en una base de datos, etc.).\n",
    "\n",
    "Para nuestro proyecto, se han definido una serie de funciones con tareas específicas para la recomendación de playlists, búsqueda de información en la base de datos, o interacción con <i>Spotify</i> (como la obtención de las playlists del usuario o la incorporación de las recomendadas por nuestro sistema). A continuación se detallan las funciones desarrolladas:\n",
    "* <strong>GetEquivalentPlaylist</strong>: Busca una playlist, a partir de otra, que sea igual o similar. Consideramos que es igual si contiene las mismas canciones y el título, convertido a etiquetas, es el mismo. En caso de no encontrar ninguna igual, busca que las etiquetas creadas con el título y/o las canciones que contiene sean un subconjunto de otra playlist.\n",
    "* <strong>GetPlaylistRecs</strong>: Mediante el identificador que tiene una playlist en la base de datos, devuelve un conjunto de playlist que recomienda el sistema.\n",
    "* <strong>GetPlaylistNewRecs</strong>: A partir de un título, lo normaliza para convertirlo en etiquetas y llama al \\textit{endpoint} del modelo de recomendación para obtener una lista de canciones. Una vez obtenidas las canciones, se seleccionan algunas de forma aleatoria y se crea una playlist con el resultado.\n",
    "* <strong>GetPlaylistInfo</strong>: Función que se encarga de completar una playlist, cuya lista de pistas es un conjunto de identificadores, añadiendo información de la pista, del álbum y del artista al que pertenece.\n",
    "* <strong>GetPlaylistInfo</strong>: Igual que la función anterior, pero se emplea en el caso de obtener varias playlists sobre las que se requiere completar la información.\n",
    "* <strong>PostNewPlaylist</strong>: Mediante una playlist, identificador de usuario y código de autorización temporal, crea dicha playlist en la cuenta de <i>Spotify</i> del usuario indicado.\n",
    "* <strong>GetUserPlaylist</strong>: Obtiene la playlist indicada de la colección del usuario, ya sea pública o privada.\n",
    "* <strong>GetUserPlaylists</strong>: Igual que el caso anterior, pero para obtener varias playlists.\n",
    "\n",
    "<br>\n",
    "\n",
    "Podemos encontrar el proyecto de funciones en la carpeta `functions` "
   ]
  },
  {
   "cell_type": "markdown",
   "id": "90343615-d208-4bc0-b70e-5a90bbd88188",
   "metadata": {},
   "source": [
    "<div style=\"text-align: right\">\n",
    "<a href=\"#indice\"><font size=5><i class=\"fa fa-arrow-circle-up\" aria-hidden=\"true\" style=\"color:#92002A\"></i></font></a>\n",
    "</div>\n",
    "\n",
    "---\n",
    "\n",
    "<br>"
   ]
  },
  {
   "cell_type": "markdown",
   "id": "4916b64b-9341-4483-921e-00b9845a38e4",
   "metadata": {},
   "source": [
    "<a id=\"section4\"></a>\n",
    "## <font color=\"#92002A\">4 - API REST</font>\n",
    "\n",
    "<br>\n",
    "\n",
    "A modo de recordatorio, una <i>API REST</i> es la implementación de una interfaz de programación de aplicaciones (<i>API</i>) que se adhiere a las restricciones de la arquitectura <i>REST</i>, actuando como interfaz. La comunicación entre el cliente y el servidor se realiza a través de las metodologías <i>HTTP</i>. En la siguiente figura podemos ver un esquema de funcionamiento:"
   ]
  },
  {
   "cell_type": "markdown",
   "id": "b57f34a2-7d28-4d3c-bd1f-5a0b6a3c5ffe",
   "metadata": {},
   "source": [
    "<img src=\"images/rest-api-model.png\" alt=\"Modelo API REST\" align=\"center\"/>"
   ]
  },
  {
   "cell_type": "markdown",
   "id": "16d47b81-3366-4999-bc17-22fc9aa55eaf",
   "metadata": {},
   "source": [
    "En nuestro caso, agruparemos las funciones que hemos definido en nuestro proyecto de <i>Azure Functions</i> como una <i>API REST</i> mediante <i>API Managment</i>, un espacio de trabajo que nos proporciona <i>Azure</i> en el que, básicamente, podemos configurar distintas <i>APIs</i> (propias o de terceros) añadiendo una capa de abstracción que unifica el acceso de desarrolladores a ellas.\n",
    "\n",
    "<i>Azure API Management</i> admite la importación de instancias de <i>Azure Functions</i> como nuevas <i>APIs</i> o anexionándolas a un proyecto existente. El proceso genera automáticamente una clave de host en la aplicación de funciones y le asigna un valor con nombre en <i>API Management</i>.\n",
    "\n",
    "Los <i>endpoints</i> que se han obtenido tras crear la <i>API REST</i> empleando el proyecto de <i>Azure Functions</i> en <i>API Managment</i>, son los siguientes:\n",
    "\n",
    "* <strong>/recomm</strong>: Realiza recomendaciones para playlists según su <i>id</i> (está en el sistema) o según su lista de canciones y/o título. \n",
    "    * <strong><font color=\"blue\">GET</font></strong> /recomm/playlists/\\{id\\}\n",
    "    * <strong><font color=\"blue\">GET</font></strong> /recomm/playlists\n",
    "* <strong>/playlists</strong>: Se encarga de obtener playlists que se encuentran en nuestro sistema según su <i>id</i>, título, lista de canciones, etc. También es capaz de localizar una playlist lo más similar posible a una dada, para posteriormente realizar predicciones o buscar recomendaciones.\n",
    "    * <strong><font color=\"blue\">GET</font></strong> /playlists\n",
    "    * <strong><font color=\"blue\">GET</font></strong> /playlists/\\{id\\}\n",
    "    * <strong><font color=\"blue\">GET</font></strong> /playlists/equivalent\n",
    "* <strong>/spotify</strong>: Empleado para obtener playlists del usuario en <i>Spotify</i> y para añadir las playlists que ha recomendado nuestro sistema en caso de que el usuario lo indique.\n",
    "    * <strong><font color=\"blue\">GET</font></strong> /spotify/playlists\n",
    "    * <strong><font color=\"blue\">GET</font></strong> /spotify/playlists/\\{id\\}\n",
    "    * <strong><font color=\"green\">POST</font></strong> /spotify/playlists"
   ]
  },
  {
   "cell_type": "markdown",
   "id": "9ade7956-36b0-4871-a300-8f4ee2f6f7d7",
   "metadata": {},
   "source": [
    "<div style=\"text-align: right\">\n",
    "<a href=\"#indice\"><font size=5><i class=\"fa fa-arrow-circle-up\" aria-hidden=\"true\" style=\"color:#92002A\"></i></font></a>\n",
    "</div>\n",
    "\n",
    "---\n",
    "\n",
    "<br>"
   ]
  },
  {
   "cell_type": "markdown",
   "id": "e3d3cfab-1199-40c6-ac10-e68a3b3ad18c",
   "metadata": {},
   "source": [
    "<a id=\"section5\"></a>\n",
    "## <font color=\"#92002A\">5 - Aplicación Web</font>\n",
    "\n",
    "<br>"
   ]
  },
  {
   "cell_type": "markdown",
   "id": "53253730-9396-4369-af37-36d398d70eba",
   "metadata": {},
   "source": [
    "Para el desarrollo de la aplicación web, que empleara el servicio de recomendación que hemos creado, vamos a usar <i>Blazor</i>. \n",
    "\n",
    "<i>Blazor</i> es un proyecto desarrollado por <i>Microsoft</i> creado para permitir crear <i>SPAs</i> (<i>Single Page Applications</i>) únicamente usando como lenguajes de programación C# y <i>Razor Pages</i>, haciendo nula la necesidad de programar en Javascript o frameworks derivados.\n",
    "\n",
    "La aplicación web que hemos desarrollado, la cual hace uso del servicio de recomendación que hemos creado, nos permite ver algunas de las funciones que se pueden implementar mediante el uso del modelo de recomendación.\n",
    "\n",
    "En la pantalla inicial de la aplicación, como se muestra en la siguiente figura:"
   ]
  },
  {
   "cell_type": "markdown",
   "id": "46f82396-19c1-4b5d-9d2c-8bf33a108606",
   "metadata": {},
   "source": [
    "<img src=\"images/SerendipityApp1.png\" alt=\"Página inicial\" align=\"center\"/>"
   ]
  },
  {
   "cell_type": "markdown",
   "id": "2c8be55e-8b1d-4355-8528-a269e37629f4",
   "metadata": {},
   "source": [
    "avisamos al usuario del servicio que debe iniciar sesión en su cuenta de <i>Spotify</i> y autorizarla para leer sus playlists y crear nuevas listas.\n",
    "\n",
    "Nuestra aplicación web realizara recomendaciones de playlists para usuarios de <i>Spotify</i> mediante dos formas:\n",
    "* <strong>Mis playlists</strong>: En esta primera forma para la recomendación de playlists, accedemos a la cuenta <i>Spotify</i> del usuario y obtenemos las playlists de su colección. Una vez obtenidas, el usuario selecciona aquella sobre la cual quiere obtener recomendaciones y se le ofrecen varias playlists, pudiendo elegir cualquiera de ellas y almacenarla en su cuenta. En la siguiente figura, se muestra un ejemplo de esta opción:"
   ]
  },
  {
   "cell_type": "markdown",
   "id": "d9798d6d-c28a-4cdf-9039-0972f32ea59b",
   "metadata": {},
   "source": [
    "<img src=\"images/SerendipityApp2.png\" alt=\"Página Mis Playlists\" align=\"center\"/>"
   ]
  },
  {
   "cell_type": "markdown",
   "id": "c4f25f1b-fe34-45ec-8994-3af53131b68c",
   "metadata": {},
   "source": [
    "* <strong>¡Voy a tener suerte!</strong>: Ofrecemos al usuario la posibilidad de crear una playlist únicamente indicando un título. De esta forma podemos ver el redimiendo de nuestro modelo en aquellos casos de los que no se dispone de pistas (caso del <i>arranque en frío</i>. En la siguiente figura se muestra el resultado de la consulta <i>Summer Hits</i>:"
   ]
  },
  {
   "cell_type": "markdown",
   "id": "de271a0c-6fe7-4206-ac22-cdb8a0fe1c15",
   "metadata": {},
   "source": [
    "<img src=\"images/SerendipityApp3.png\" alt=\"Página ¡Voy a tener suerte!\" align=\"center\"/>"
   ]
  },
  {
   "cell_type": "markdown",
   "id": "99cc683c-837b-4525-93a0-584d00bcca4a",
   "metadata": {},
   "source": [
    "<br>\n",
    "\n",
    "Podemos encontrar el proyecto de la aplicación web en la carpeta `webapp`."
   ]
  },
  {
   "cell_type": "markdown",
   "id": "d2a962e2-c73a-43e9-8aee-e9811c575e10",
   "metadata": {},
   "source": [
    "<div style=\"text-align: right\">\n",
    "<a href=\"#indice\"><font size=5><i class=\"fa fa-arrow-circle-up\" aria-hidden=\"true\" style=\"color:#92002A\"></i></font></a>\n",
    "</div>\n",
    "\n",
    "---\n",
    "\n",
    "<div style=\"text-align: right\"> <font size=6><i class=\"fa fa-graduation-cap\" aria-hidden=\"true\" style=\"color:#92002A\"></i> </font></div>"
   ]
  }
 ],
 "metadata": {
  "kernelspec": {
   "display_name": "Python 3 (ipykernel)",
   "language": "python",
   "name": "python3"
  },
  "language_info": {
   "codemirror_mode": {
    "name": "ipython",
    "version": 3
   },
   "file_extension": ".py",
   "mimetype": "text/x-python",
   "name": "python",
   "nbconvert_exporter": "python",
   "pygments_lexer": "ipython3",
   "version": "3.10.4"
  }
 },
 "nbformat": 4,
 "nbformat_minor": 5
}
